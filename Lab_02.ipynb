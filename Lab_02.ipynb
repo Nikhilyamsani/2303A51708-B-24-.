{
  "nbformat": 4,
  "nbformat_minor": 0,
  "metadata": {
    "colab": {
      "provenance": [],
      "authorship_tag": "ABX9TyNEHeEi15tqGhNHiXeSL4dn",
      "include_colab_link": true
    },
    "kernelspec": {
      "name": "python3",
      "display_name": "Python 3"
    },
    "language_info": {
      "name": "python"
    }
  },
  "cells": [
    {
      "cell_type": "markdown",
      "metadata": {
        "id": "view-in-github",
        "colab_type": "text"
      },
      "source": [
        "<a href=\"https://colab.research.google.com/github/Nikhilyamsani/2303A51708-B-24-./blob/main/Lab_02.ipynb\" target=\"_parent\"><img src=\"https://colab.research.google.com/assets/colab-badge.svg\" alt=\"Open In Colab\"/></a>"
      ]
    },
    {
      "cell_type": "code",
      "execution_count": 13,
      "metadata": {
        "id": "GXZP0LVXyuab"
      },
      "outputs": [],
      "source": [
        "import numpy as np\n",
        "import pandas as pd\n",
        "import matplotlib.pyplot as plt"
      ]
    },
    {
      "cell_type": "code",
      "source": [
        "temp=np.array([38.6,32.5,40.3,35.9,31.4,41.2,33.7,39.0,42.5,34.4])\n",
        "months=np.array([\"January\",\"February\",\"March\",\"April\",\"May\",\"June\",\"July\",\"August\",\"September\",\"October\"])"
      ],
      "metadata": {
        "id": "Y3MiJiR6y7RE"
      },
      "execution_count": 15,
      "outputs": []
    },
    {
      "cell_type": "code",
      "source": [
        "hottest=np.argmin(temp)\n",
        "coldest=np.argmax(temp)"
      ],
      "metadata": {
        "id": "-Ei0BGHYy7N1"
      },
      "execution_count": 19,
      "outputs": []
    },
    {
      "cell_type": "code",
      "source": [
        "print(months[hottest])"
      ],
      "metadata": {
        "colab": {
          "base_uri": "https://localhost:8080/"
        },
        "id": "5nmJd2V0y652",
        "outputId": "6537ba7d-44b7-46fa-f43a-e3e52358676d"
      },
      "execution_count": 20,
      "outputs": [
        {
          "output_type": "stream",
          "name": "stdout",
          "text": [
            "May\n"
          ]
        }
      ]
    },
    {
      "cell_type": "code",
      "source": [
        "print(months[coldest])"
      ],
      "metadata": {
        "colab": {
          "base_uri": "https://localhost:8080/"
        },
        "id": "i3PoReSwy6tb",
        "outputId": "25020706-5768-4b79-8c1e-19eb752b33ca"
      },
      "execution_count": 21,
      "outputs": [
        {
          "output_type": "stream",
          "name": "stdout",
          "text": [
            "September\n"
          ]
        }
      ]
    },
    {
      "cell_type": "code",
      "source": [
        "plt.bar(months,temp)\n",
        "plt.show()"
      ],
      "metadata": {
        "colab": {
          "base_uri": "https://localhost:8080/",
          "height": 430
        },
        "id": "etAJvG1w2bQb",
        "outputId": "06e96a7d-cff2-4f9a-e20b-d11e68028be3"
      },
      "execution_count": 23,
      "outputs": [
        {
          "output_type": "display_data",
          "data": {
            "text/plain": [
              "<Figure size 640x480 with 1 Axes>"
            ],
            "image/png": "[encoded data removed]"
          },
          "metadata": {}
        }
      ]
    },
    {
      "cell_type": "code",
      "source": [
        "avg=np.average(temp)"
      ],
      "metadata": {
        "id": "EwmdNDOf2bNA"
      },
      "execution_count": 24,
      "outputs": []
    },
    {
      "cell_type": "code",
      "source": [
        "above_avg=months[temp>avg]\n",
        "print(above_avg)"
      ],
      "metadata": {
        "colab": {
          "base_uri": "https://localhost:8080/"
        },
        "id": "iqWt04OV2bLj",
        "outputId": "affe37a2-e3f1-41f6-8741-42e76b406588"
      },
      "execution_count": 31,
      "outputs": [
        {
          "output_type": "stream",
          "name": "stdout",
          "text": [
            "['January' 'March' 'June' 'August' 'September']\n"
          ]
        }
      ]
    },
    {
      "cell_type": "code",
      "source": [
        "normalized_temp=(temp-np.min(temp))/(np.max(temp)-np.min(temp))\n",
        "print(normalized_temp)"
      ],
      "metadata": {
        "colab": {
          "base_uri": "https://localhost:8080/"
        },
        "id": "miOELdEd2bIn",
        "outputId": "88de23bd-6535-416a-9abb-66b5bfe3ddf1"
      },
      "execution_count": 32,
      "outputs": [
        {
          "output_type": "stream",
          "name": "stdout",
          "text": [
            "[0.64864865 0.0990991  0.8018018  0.40540541 0.         0.88288288\n",
            " 0.20720721 0.68468468 1.         0.27027027]\n"
          ]
        }
      ]
    },
    {
      "cell_type": "code",
      "source": [
        "fahrenheit_temp=(temp*9/5)+32"
      ],
      "metadata": {
        "id": "_k4sWC9D2bGE"
      },
      "execution_count": 33,
      "outputs": []
    },
    {
      "cell_type": "code",
      "source": [
        "import pandas as pd\n",
        "\n",
        "\n",
        "data = {\n",
        "    'Order ID': [101, 102, 103, 104, 105, 106, 107, 108],\n",
        "    'Product': ['Laptop', 'Phone', 'Headphones', 'Monitor', 'Laptop', 'Phone', 'Keyboard', 'Mouse'],\n",
        "    'Quantity': [1, 3, 5, 2, 1, 4, 6, 10],\n",
        "    'Price': [75000, 25000, 2000, 15000, 80000, 27000, 1500, 500]\n",
        "}\n",
        "\n",
        "df = pd.DataFrame(data)\n",
        "\n",
        "\n",
        "df['Total Sale'] = df['Quantity'] * df['Price']\n",
        "\n",
        "\n",
        "high_value_orders = df[df['Total Sale'] > 1000]\n",
        "\n",
        "\n",
        "most_sold = df.groupby('Product')['Quantity'].sum().sort_values(ascending=False)\n",
        "\n",
        "\n",
        "df['Discount'] = df['Total Sale'].apply(lambda x: 0.10 * x if x > 50000 else 0.05 * x)\n",
        "\n",
        "\n",
        "df.to_excel(\"sales_summary.xlsx\", index=False)\n",
        "\n",
        "\n",
        "print(\"=== Original DataFrame ===\")\n",
        "print(df)\n",
        "\n",
        "print(\"\\n=== High Value Orders (Total Sale > 1000) ===\")\n",
        "print(high_value_orders)\n",
        "\n",
        "print(\"\\n=== Most Sold Products ===\")\n",
        "print(most_sold)\n",
        "\n",
        "print(\"\\n✅ Sales summary has been saved to 'sales_summary.xlsx'\")\n",
        "data={\n",
        "    'Order ID':[1,2,3,4,5],\n",
        "    'Product':['car','bike','bus','cycle','auto'],\n",
        "    'Quantity':[5,3,7,2,1],\n",
        "    'Price':[10000,3000,12000,3500,4500]\n",
        "}\n",
        "df=pd.DataFrame(data)"
      ],
      "metadata": {
        "colab": {
          "base_uri": "https://localhost:8080/"
        },
        "id": "MEesY6268g_d",
        "outputId": "d8d13ebe-acdb-4888-e4e5-f1d177dbeee0"
      },
      "execution_count": 42,
      "outputs": [
        {
          "output_type": "stream",
          "name": "stdout",
          "text": [
            "=== Original DataFrame ===\n",
            "   Order ID     Product  Quantity  Price  Total Sale  Discount\n",
            "0       101      Laptop         1  75000       75000    7500.0\n",
            "1       102       Phone         3  25000       75000    7500.0\n",
            "2       103  Headphones         5   2000       10000     500.0\n",
            "3       104     Monitor         2  15000       30000    1500.0\n",
            "4       105      Laptop         1  80000       80000    8000.0\n",
            "5       106       Phone         4  27000      108000   10800.0\n",
            "6       107    Keyboard         6   1500        9000     450.0\n",
            "7       108       Mouse        10    500        5000     250.0\n",
            "\n",
            "=== High Value Orders (Total Sale > 1000) ===\n",
            "   Order ID     Product  Quantity  Price  Total Sale\n",
            "0       101      Laptop         1  75000       75000\n",
            "1       102       Phone         3  25000       75000\n",
            "2       103  Headphones         5   2000       10000\n",
            "3       104     Monitor         2  15000       30000\n",
            "4       105      Laptop         1  80000       80000\n",
            "5       106       Phone         4  27000      108000\n",
            "6       107    Keyboard         6   1500        9000\n",
            "7       108       Mouse        10    500        5000\n",
            "\n",
            "=== Most Sold Products ===\n",
            "Product\n",
            "Mouse         10\n",
            "Phone          7\n",
            "Keyboard       6\n",
            "Headphones     5\n",
            "Monitor        2\n",
            "Laptop         2\n",
            "Name: Quantity, dtype: int64\n",
            "\n",
            "✅ Sales summary has been saved to 'sales_summary.xlsx'\n"
          ]
        }
      ]
    },
    {
      "cell_type": "code",
      "source": [
        "total_sale=df['Quantity']*df['Price']\n",
        "print(total_sale)"
      ],
      "metadata": {
        "colab": {
          "base_uri": "https://localhost:8080/"
        },
        "id": "WEQkHX3s8g8G",
        "outputId": "81c64660-82c9-4e43-db48-4237e180761b"
      },
      "execution_count": 41,
      "outputs": [
        {
          "output_type": "stream",
          "name": "stdout",
          "text": [
            "0    100000\n",
            "1     18000\n",
            "2    168000\n",
            "3     14000\n",
            "4      9000\n",
            "dtype: int64\n"
          ]
        }
      ]
    },
    {
      "cell_type": "code",
      "source": [],
      "metadata": {
        "id": "epDwL_Dk8g3u"
      },
      "execution_count": null,
      "outputs": []
    },
    {
      "cell_type": "code",
      "source": [],
      "metadata": {
        "id": "NuvYi5ZC8g1o"
      },
      "execution_count": null,
      "outputs": []
    }
  ]
}